{
 "cells": [
  {
   "cell_type": "markdown",
   "id": "6e17bbad-f1e7-4fb9-8f71-aefbb271b261",
   "metadata": {
    "tags": []
   },
   "source": [
    "# (4주차) 3월23일\n",
    "> 개발환경의 변천사, 1세대 프로그래머부터 5세대 프로그래머까지\n",
    "\n",
    "- toc:true\n",
    "- branch: master\n",
    "- badges: true\n",
    "- comments: true\n",
    "- author: 최규빈"
   ]
  },
  {
   "cell_type": "markdown",
   "id": "6909f070-ce60-4ef3-829b-09e6c0de8fcb",
   "metadata": {},
   "source": [
    "### 강의영상 "
   ]
  },
  {
   "cell_type": "markdown",
   "id": "4d243744-557c-4426-bda0-f13fc1eee4ab",
   "metadata": {},
   "source": [
    "> youtube: https://youtube.com/playlist?list=PLQqh36zP38-zcnjAged1xIatgznRTy93c"
   ]
  },
  {
   "cell_type": "markdown",
   "id": "49c595c0-37a1-4312-8dcf-b1219df38c59",
   "metadata": {},
   "source": [
    "`-` (1/8) 파이썬이 어려웠던 이유 \n",
    "\n",
    "`-` (2/8) 1세대 프로그래머\n",
    "\n",
    "`-` (3/8) 1세대 프로그래머의 삶 with python \n",
    "\n",
    "`-` (4/8) 1세대 프로그래머의 삶 with ipython \n",
    "\n",
    "`-` (5/8) 2세대 프로그래머, 3세대 프로그래머 (1)\n",
    "\n",
    "`-` (6/8) 3세대 프로그래머(2), 4세대 프로그래머 \n",
    "\n",
    "`-` (7/8) 5세대 프로그래머 \n",
    "\n",
    "`-` (8/8) 다양한 개발환경 구축방법 다시 리뷰, 숙제설명 "
   ]
  },
  {
   "cell_type": "markdown",
   "id": "024c6890-8251-49bc-aad3-1970d2738612",
   "metadata": {},
   "source": [
    "### 파이썬이 어려웠던 이유  "
   ]
  },
  {
   "cell_type": "markdown",
   "id": "e3c92341-7353-49d1-af24-d0eb3a67993b",
   "metadata": {},
   "source": [
    "`-` 파이썬 배우는 초보자에게 가장 어려운것!\n",
    "- 선생님마다 설치하는 방법이 모두 다름 "
   ]
  },
  {
   "cell_type": "markdown",
   "id": "31e2834b-3383-4305-acbd-ee098107f80d",
   "metadata": {},
   "source": [
    "`-` 왜 저렇게 설치방법이 다른가? 왜 다른 방법으로 각각 파이썬을 실행하는가? 이런것이 너무 어려움 \n",
    "- [방법1:](https://wikidocs.net/8) 파이썬프로그램 다운로드 -> 시작버튼 눌러서 설치\n",
    "- [방법2:](https://wikidocs.net/44) 아나콘다 설치 (그럼 자동으로 파이썬이 설치됨) \n",
    "- 방법3: 아나콘다 설치 + 가상환경 \n",
    "- ... "
   ]
  },
  {
   "cell_type": "markdown",
   "id": "b639fc6a-90db-4846-ae12-597a59b2f64d",
   "metadata": {},
   "source": [
    "`-` 심지어 실행하는것도 다름\n",
    "- [방법1:](https://goddaehee.tistory.com/286) 파이썬 프롬프트\n",
    "- [방법2:](https://null-0.tistory.com/11) .py를 이용하여 실행?\n",
    "- [방법3:](https://null-0.tistory.com/11) IDLE\n",
    "- [방법4:](https://tariat.tistory.com/73) 파이참 \n",
    "- [방법5:](https://shlee1990.tistory.com/963) 스파이더\n",
    "- [방법6:](https://www.codingfactory.net/11337) Visual Studio Code\n",
    "- 방법7: 주피터노트북, 주피터랩\n",
    "    - 가상환경을 만들어서 해라.. \n",
    "    - 아나콘다 네비게이터에 주피터가 있다.. \n",
    "- ... "
   ]
  },
  {
   "cell_type": "markdown",
   "id": "68db54f0-b536-49d6-bd4d-5e7800fc923a",
   "metadata": {},
   "source": [
    "`-` 머리아프니까 collab을 쓰라는 사람도 있음. 아니면 도커이미지를 줄테니까 그걸 쓰라는 사람도 있음. AWS를 쓰라는 사람도 있음.. $\\to$ 이게 더 머리아픔 "
   ]
  },
  {
   "cell_type": "markdown",
   "id": "a2b89e64-d413-4514-be02-840237e54697",
   "metadata": {},
   "source": [
    "`-` 핵심: 그냥 (1) 컴퓨터에 (2) 파이썬을 깔아서 (3) 실행하는 것임 "
   ]
  },
  {
   "cell_type": "markdown",
   "id": "d50b95b1-35f2-48bf-b89d-e0bea75a550d",
   "metadata": {},
   "source": [
    "`-` 의문: 그런데 방법이 왜이렇게 많은가? 엑셀처럼 프로그램 설치하고 아이콘 더블클릭하면 끝나는 식으로 만들어야 하는것 아닌가? "
   ]
  },
  {
   "cell_type": "markdown",
   "id": "4555f900-a589-432f-a40a-d091da95d0de",
   "metadata": {},
   "source": [
    "#### 개발환경 구축방법이 많은 이유? "
   ]
  },
  {
   "cell_type": "markdown",
   "id": "d13a7bf9-1b4a-4ecb-a947-7d469872f6bc",
   "metadata": {},
   "source": [
    "`-` 파이썬 개발환경 구축은 수많은 방법이 있다. "
   ]
  },
  {
   "cell_type": "markdown",
   "id": "7578410e-f7de-4422-956e-ad470509e171",
   "metadata": {},
   "source": [
    "`-` 이는 마치 라면의 레시피를 검색하면 수많은 방법이 나오는것과 유사함. \n",
    "- 방법1: 스프를 먼저 넣고 끓인다음 라면을 넣어야 합니다. \n",
    "- 방법2: 양은냄비에 물넣고 물이 끊으면 라면과 스프를 같이 넣고 마지막에 계란을 넣는다. \n",
    "- 방법3: 먹다남은 삼겹살을 후라이팬에 볶은다음에 물을 붓고 라면을 넣는다. \n",
    "- 방법4: 용기에 라면+스프+뜨거운물 랩을 씌운뒤에 젓가락으로 구멍을 뚫고 전자렌지에 돌린다. \n",
    "- ... "
   ]
  },
  {
   "cell_type": "markdown",
   "id": "886be1d7-cc7f-4473-b9ff-12e657fd9596",
   "metadata": {},
   "source": [
    "`-` 우리는 모든 방법을 나열할 순 없지만 모든 방법을 이해할 수 있다. 왜냐하면 라면을 끓이는 공통적인 맥락을 우리는 알고 있으니까 "
   ]
  },
  {
   "cell_type": "markdown",
   "id": "3e69a304-3854-454b-9859-aef015e6ee2b",
   "metadata": {},
   "source": [
    "`-` 파이썬을 설치하는 다양한 방법 역시 공통맥락을 파악하면 이해하기 쉽다. "
   ]
  },
  {
   "cell_type": "markdown",
   "id": "89a90fa9-7d4b-4e17-9487-82cb9cf05bb4",
   "metadata": {},
   "source": [
    "`-` 제목적: 파이썬을 설치하고 실행하는 공통맥락을 설명하고 싶음 "
   ]
  },
  {
   "cell_type": "markdown",
   "id": "a8a46515-17c3-46fe-bfc8-67d489d5076d",
   "metadata": {},
   "source": [
    "`-` 설치하는 방법이 다양한 이유? 파이썬이 인기있음 + 다양한 방법을 설치를 하면 각자의 장점이 뚜렷해서 "
   ]
  },
  {
   "cell_type": "markdown",
   "id": "41a2cab4-1bef-4f51-a5dc-4f6cd87d99a9",
   "metadata": {},
   "source": [
    "### 1세대 프로그래머 "
   ]
  },
  {
   "cell_type": "markdown",
   "id": "895dc38f-afbf-4607-b61d-03001c55a21c",
   "metadata": {},
   "source": [
    "#### python "
   ]
  },
  {
   "cell_type": "markdown",
   "id": "74ce6772-0ede-4bc7-9181-dfa4c82b4688",
   "metadata": {},
   "source": [
    "`-` 윈도우에서 anaconda prompt 실행 -> python \n",
    "\n",
    "```\n",
    "(base) C:\\Users\\python>python\n",
    "Python 3.9.7 (default, Sep 16 2021, 16:59:28) [MSC v.1916 64 bit (AMD64)] :: Anaconda, Inc. on win32\n",
    "Type \"help\", \"copyright\", \"credits\" or \"license\" for more information.\n",
    ">>> [1,2,3]+[4]\n",
    "[1, 2, 3, 4]\n",
    ">>> a=[1,2,3]+[4]\n",
    ">>> a\n",
    "[1, 2, 3, 4]\n",
    "```"
   ]
  },
  {
   "cell_type": "markdown",
   "id": "75b62b6b-29ff-45e2-beca-12b0aa80ff7e",
   "metadata": {},
   "source": [
    "`-` 2개를 실행할 수도 있음. (두 환경은 각각 서로 독립적인 파이썬, 변수가 공유되지 않음) $\\star$"
   ]
  },
  {
   "cell_type": "markdown",
   "id": "ece197ed-27cd-4073-9275-d4b6d6954446",
   "metadata": {},
   "source": [
    "`-` 아쉬운점: `?list'와 같이 도움말 기능이 동작하지 않음 \n",
    "\n",
    "```\n",
    ">>> ?list\n",
    "  File \"<stdin>\", line 1\n",
    "    ?list\n",
    "    ^\n",
    "SyntaxError: invalid syntax\n",
    ">>> \n",
    "```"
   ]
  },
  {
   "cell_type": "markdown",
   "id": "82fd5aa9-b0d6-49d2-bf4e-c0d057e6891c",
   "metadata": {},
   "source": [
    "#### ipython "
   ]
  },
  {
   "cell_type": "markdown",
   "id": "3063a284-e702-478f-86fb-bc6777bd2233",
   "metadata": {},
   "source": [
    "`-` 윈도우에서 anaconda prompt 실행 -> ipython \n",
    "\n",
    "```\n",
    "(base) C:\\Users\\python>ipython\n",
    "Python 3.9.7 (default, Sep 16 2021, 16:59:28) [MSC v.1916 64 bit (AMD64)]\n",
    "Type 'copyright', 'credits' or 'license' for more information\n",
    "IPython 7.29.0 -- An enhanced Interactive Python. Type '?' for help.\n",
    "\n",
    "In [1]: a=[1,2,3]\n",
    "\n",
    "In [2]: a\n",
    "Out[2]: [1, 2, 3]\n",
    "\n",
    "In [3]: a+[4]\n",
    "Out[3]: [1, 2, 3, 4]\n",
    "```"
   ]
  },
  {
   "cell_type": "markdown",
   "id": "e271c03c-5be7-40dc-b2d0-5f44d9aad37b",
   "metadata": {},
   "source": [
    "`-` ?list가 가능 \n",
    "\n",
    "```\n",
    "In [4]: ?list\n",
    "Init signature: list(iterable=(), /)\n",
    "Docstring:\n",
    "Built-in mutable sequence.\n",
    "\n",
    "If no argument is given, the constructor creates a new empty list.\n",
    "The argument must be an iterable if specified.\n",
    "Type:           type\n",
    "Subclasses:     _HashedSeq, StackSummary, DeferredConfigList, SList, _ImmutableLineList, FormattedText, NodeList, _ExplodedList, Stack, _Accumulator, ...\n",
    "\n",
    "```"
   ]
  },
  {
   "cell_type": "markdown",
   "id": "24fbd942-8c97-4ff1-912e-d8118e2c7865",
   "metadata": {},
   "source": [
    "`-` 색깔이 알록달록해서 문법을 보기 편하다. (구문강조)"
   ]
  },
  {
   "cell_type": "markdown",
   "id": "b8f3bf4d-dcc0-4e03-a050-aa22bbaeb02e",
   "metadata": {},
   "source": [
    "#### 1세대 프로그래머의 삶 with python "
   ]
  },
  {
   "cell_type": "markdown",
   "id": "8db1d5fa-6d85-41f4-a475-beef67ae123b",
   "metadata": {},
   "source": [
    "`-` 1부터 10까지 합을 구하는 프로그램을 만들고 싶음 "
   ]
  },
  {
   "cell_type": "markdown",
   "id": "f3d3a498-7bc1-4a5a-a526-789318bf76d2",
   "metadata": {},
   "source": [
    "`-` 시도1: python을 키고 아래와 같이 실행 \n",
    "\n",
    "```\n",
    "(base) C:\\Users\\python>python\n",
    "Python 3.9.7 (default, Sep 16 2021, 16:59:28) [MSC v.1916 64 bit (AMD64)] :: Anaconda, Inc. on win32\n",
    "Type \"help\", \"copyright\", \"credits\" or \"license\" for more information.\n",
    ">>> total = 0\n",
    ">>> for i in range(10):\n",
    "...     total=total+i\n",
    "...\n",
    ">>> total\n",
    "45\n",
    ">>>\n",
    "```"
   ]
  },
  {
   "cell_type": "markdown",
   "id": "b490b6a4-e9a7-4ae4-a169-12bfe50ed826",
   "metadata": {},
   "source": [
    "`-` 반성: 정답은 55인데 45가 출력되었다! $\\to$ range(10)을 range(1,11)으로 바꿔야겠다! "
   ]
  },
  {
   "cell_type": "markdown",
   "id": "72062841-f994-48b1-b856-c0d99c090da0",
   "metadata": {},
   "source": [
    "`-` 시도2: range(1,11)을 바꿔야겠다고 생각하고 다시 입력하다가 오타가 발생  \n",
    "\n",
    "```\n",
    ">>> total =0\n",
    ">>> for i in range(1,11):\n",
    "...     total = totla +i\n",
    "...\n",
    "```"
   ]
  },
  {
   "cell_type": "markdown",
   "id": "1f7d4d91-1531-4037-8625-14f3a944a2ea",
   "metadata": {},
   "source": [
    "- 앗 totla이라고 잘못쳤다. "
   ]
  },
  {
   "cell_type": "markdown",
   "id": "e2f7bd02-606d-420f-ac7a-f7dcf935d1a8",
   "metadata": {},
   "source": [
    "`-` 반성: 다음에는 정신을 똑바로 차려야겠다. "
   ]
  },
  {
   "cell_type": "markdown",
   "id": "0872b4f4-31b3-47fd-818e-6cde0cc8bf6e",
   "metadata": {},
   "source": [
    "`-` 불편한점: ... 다.. "
   ]
  },
  {
   "cell_type": "markdown",
   "id": "3bc77298-b2ec-45c3-acfe-263b18e22032",
   "metadata": {},
   "source": [
    "#### 1세대 프로그래머의 삶 with ipython"
   ]
  },
  {
   "cell_type": "markdown",
   "id": "8b706183-c8a6-4648-885b-bbc695fe12dc",
   "metadata": {},
   "source": [
    "`-` ipython을 사용한 프로그래머는 좀더 상황이 낫다 \n",
    "```\n",
    "(base) C:\\Users\\python>ipython\n",
    "Python 3.9.7 (default, Sep 16 2021, 16:59:28) [MSC v.1916 64 bit (AMD64)]\n",
    "Type 'copyright', 'credits' or 'license' for more information\n",
    "IPython 7.29.0 -- An enhanced Interactive Python. Type '?' for help.\n",
    "\n",
    "In [1]: total = 0\n",
    "\n",
    "In [2]: for i in range(1,11):\n",
    "   ...:     total = total + i\n",
    "   ...:\n",
    "\n",
    "In [3]: total\n",
    "Out[3]: 55\n",
    "```"
   ]
  },
  {
   "cell_type": "markdown",
   "id": "033d7d50-82c5-478d-9f3a-d932185ffc53",
   "metadata": {},
   "source": [
    "- 편한점1: 자동으로 들여쓰기가 되어서 편함 \n",
    "- 편한점2: 화살표를 이용해서 for문을 쓰는 도중에 위아래로 이동가능 \n",
    "- 불편한점1: 화살표로 이동할수는 있는데 마우스로는 이동할 수 없다. \n",
    "- 불편한점2: 내가 작성한 코드를 관리하기 어렵다. "
   ]
  },
  {
   "cell_type": "markdown",
   "id": "6b7e1cd9-890b-46a9-8ad8-4d31ecdb7537",
   "metadata": {},
   "source": [
    "### 2세대 프로그래머: 메모장 + anconda prompt를 이용 (`.py`를 이용한 python활용) "
   ]
  },
  {
   "cell_type": "markdown",
   "id": "a27ad814-8ef9-43c0-9253-5316072217e9",
   "metadata": {},
   "source": [
    "`-` 메모장을 키고 아래의 내용을 적는다. \n",
    "```\n",
    "total = 0 \n",
    "for i in range(1,11): \n",
    "    total = total + i\n",
    "print(total)\n",
    "```"
   ]
  },
  {
   "cell_type": "markdown",
   "id": "145bcbc7-1125-44b0-824f-9a99a008392f",
   "metadata": {},
   "source": [
    "`-` 파일이름을 `mysum.py`로 저장한다. "
   ]
  },
  {
   "cell_type": "markdown",
   "id": "6da7ea28-f10c-4591-b713-df094fad4663",
   "metadata": {},
   "source": [
    "`-` anaconda prompt에서 `mysum.py`파일이 저장된 폴더로 이동 -> 실행 \n",
    "\n",
    "```\n",
    "(base) C:\\Users\\python>cd Desktop\n",
    "\n",
    "(base) C:\\Users\\python\\Desktop>dir\n",
    " C 드라이브의 볼륨에는 이름이 없습니다.\n",
    " 볼륨 일련 번호: 9AFD-A05F\n",
    "\n",
    " C:\\Users\\python\\Desktop 디렉터리\n",
    "\n",
    "2022-03-27  오전 11:32    <DIR>          .\n",
    "2022-03-27  오전 11:32    <DIR>          ..\n",
    "2022-03-27  오전 12:01             2,306 Chrome.lnk\n",
    "2022-03-26  오후 08:32             2,332 Microsoft Edge.lnk\n",
    "2022-03-27  오전 11:33                71 mysum.py\n",
    "               3개 파일               4,709 바이트\n",
    "               2개 디렉터리  743,643,467,776 바이트 남음\n",
    "\n",
    "(base) C:\\Users\\python\\Desktop>python mysum.py\n",
    "55\n",
    "\n",
    "(base) C:\\Users\\python\\Desktop>\n",
    "```"
   ]
  },
  {
   "cell_type": "markdown",
   "id": "a50b292d-28dd-461e-b59b-709628a64f3c",
   "metadata": {},
   "source": [
    "`-` 소감\n",
    "- 편한점1: 마우스를 이용하여 이동가능 \n",
    "- 편한점2: 내가 작업한 내용은 바탕화면의 메모장에 저장이 되어있음\n",
    "- 아쉬운점: ipython의 장점은 활용못함 (구문강조, 도움말기능) "
   ]
  },
  {
   "cell_type": "markdown",
   "id": "939d51d7-f994-4e9c-8388-c16e0be91fd9",
   "metadata": {},
   "source": [
    "### 3세대 프로그래머: 메모장 + ipython "
   ]
  },
  {
   "cell_type": "markdown",
   "id": "11474706-0194-4cbe-a695-560c06d0c567",
   "metadata": {},
   "source": [
    "`-` 전체적인 개발방식\n",
    "- 메모장: 코드를 편집, 저장 \n",
    "- ipython: **anaconda prompt처럼 메모장의 코드를 실행하고 결과를 확인** + 구문강조, 도움말확인기능 등을 이용하여 짧은 코드를 빠르게 작성 "
   ]
  },
  {
   "cell_type": "markdown",
   "id": "bfdff146-5a52-4349-b77a-6d06e22a9a3f",
   "metadata": {},
   "source": [
    "`-` 기능 \n",
    "- ipython에서 **!python mysum.py**를 입력하면 anaconda prompt에서 **python mysum.py**를 입력한 것과 같은 효과 \n",
    "- ipython에서 **%run mysum**을 입력하면 메모장에서 mysum.py에 입력된 내용을 복사해서 ipython에 붙여넣어 실행한것과 같은 효과 "
   ]
  },
  {
   "cell_type": "markdown",
   "id": "bfb75639-de41-4e63-b6a3-0ff63d3153fb",
   "metadata": {},
   "source": [
    "### 4세대 프로그래머: IDE(통합개발환경)를 사용 "
   ]
  },
  {
   "cell_type": "markdown",
   "id": "e51df19e-ec27-4624-b370-515433be170b",
   "metadata": {},
   "source": [
    "`-` 메모장과 ipython을 하나로 통합한 프로그램이 등장! \n",
    "- jupyter notebook, jupyter lab \n",
    "- spyder \n",
    "- idle \n",
    "- VScode \n",
    "- ... "
   ]
  },
  {
   "cell_type": "markdown",
   "id": "2775d9d7-41c5-442e-bfb4-5330ea1e819c",
   "metadata": {},
   "source": [
    "`-` 주피터의 트릭 (실제로 주피터는 ipython에 기생할 뿐 아무런 역할도 안해요) \n",
    "\n",
    "(1) 주피터를 실행 \n",
    "\n",
    "(2) 새노트북을 생성 (파이썬으로 선택) \n",
    "- 컴퓨터는 내부적으로 ipython을 실행하고 그 ipython이랑 여러분이 방금만든 그 노트북과 연결 \n",
    "\n",
    "(3) 처음보이는 cell에 1+1을 입력 -> 쉬프트엔터 -> 결과2가 출력 \n",
    "- 처음보이는 cell하나 = 자동으로 열린 하나의 메모장\n",
    "- cell 1+1을 입력 = 메모장에 1+1을 적음 \n",
    "- 쉬프트+엔터후 결과2를 출력 = cell의 내용을 복사 -> ipython에 붙여넣음 -> ipython 계산된 결과를 복사 -> cell로 돌아와 붙여넣기 \n",
    "\n",
    "(4) 새로운 cell을 추가하고 2+2을 입력 -> 쉬프트엔터 -> 결과4가 출력 \n",
    "- 새로운 cell을 추가 = 새로운 메모장 추가\n",
    "- cell 2+2을 입력 = 새로운 메모장에 2+2를 적음 \n",
    "- 쉬프트+엔터후 결과4를 출력 = cell의 내용을 복사 -> ipython에 붙여넣음 -> ipython 계산된 결과를 복사 -> cell로 돌아와 붙여넣기"
   ]
  },
  {
   "cell_type": "markdown",
   "id": "9ce66e86-2c9d-4a37-9184-6ba11368e7bf",
   "metadata": {},
   "source": [
    "`-` 중요한 사실들 \n",
    "- IDE는 내부적으로 연산을 수행하는 능력이 없다. (생각해볼것: 왜 R을 꼭 설치하고 Rstudio를 설치해야 했을까?) \n",
    "- 주피터에서 커널을 재시작한다는 의미는 메모장이 열린채로 ipython을 껐다가 다시 실행한다는 의미 \n",
    "- 주피터는 단순히 '메모장의 내용을 복사하여 붙여넣는 기계'라고 볼 수 있다. 이렇게 생각하면 주피터는 꼭 ipython에 연결할 이유는 없다. 실제로 주피터에 R을 연결해서 쓸 수 있다. **즉 하나의 IDE가 여러개의 언어와 연결될 수 있다.**\n",
    "- Jupyterlab이라는 프로그램은 크롬에 있는 내용과 ipython간의 통신을 제어하는 프로그램일 뿐이다. "
   ]
  },
  {
   "cell_type": "markdown",
   "id": "cfa63922-c07a-4163-8f62-d60943462cb1",
   "metadata": {},
   "source": [
    "### 5세대 프로그래머: 가상컴퓨터(anaconda), 원격컴퓨터(server), 클라우드컴퓨터(colab)의 개념 등장 "
   ]
  },
  {
   "cell_type": "markdown",
   "id": "ea95dece-ebc9-4e9f-8872-0bbbfcc7a7bf",
   "metadata": {},
   "source": [
    "`-` 지금까지는 ipython이 실행되는 컴퓨터와 크롬이 실행되는 컴퓨터가 동일하다는 전제였음. "
   ]
  },
  {
   "cell_type": "markdown",
   "id": "f7a68ab2-ca10-4c85-a005-5e1856586590",
   "metadata": {},
   "source": [
    "`-` 생각해보니까 어차피 ipython이 실행된 컴퓨터에서 내가 크롬에 입력한 명령 \"전달\"되기만 하면 되므로 꼭 같은 컴퓨터일 필요는 없다. "
   ]
  },
  {
   "cell_type": "markdown",
   "id": "7cddd584-266a-466a-8053-9a825ac86b33",
   "metadata": {},
   "source": [
    "#### 모델1: 원격컴퓨터 "
   ]
  },
  {
   "cell_type": "markdown",
   "id": "d0eba504-94ee-48d2-965d-74a747b9c28b",
   "metadata": {},
   "source": [
    "`-` 준비상태 \n",
    "- 전북대컴퓨터: ipython을 실행 + 이 컴퓨터는 인터넷 연결이 되어있어야함 \n",
    "- 우리집노트북: 크롬실행 + 이 컴퓨터도 인터넷이 연결되어 있어야함 "
   ]
  },
  {
   "cell_type": "markdown",
   "id": "0e29d40f-ffcb-40c2-921c-b6a07aca50e8",
   "metadata": {},
   "source": [
    "`-` 명령입력\n",
    "- 우리집노트북 크롬에서 1+1을 입력하고 쉬프트 엔터를 누름 "
   ]
  },
  {
   "cell_type": "markdown",
   "id": "4dc19866-a403-44a7-843f-e272efef7440",
   "metadata": {},
   "source": [
    "`-` 우리집노트북 -> 전북대컴퓨터 \n",
    "- 우리집 노트북의 내부의 어떤프로그램은 1+1이라는 명령을 복사하여 카카오톡으로 전북대 컴퓨터에 전달 \n",
    "- 전북대 컴퓨터의 내부의 어떤프로그램은 1+1이라는 명령을 카톡으로 받아서 그것을 ipython에게 전달 "
   ]
  },
  {
   "cell_type": "markdown",
   "id": "64e4c287-66bb-4e75-94b6-221289c83b99",
   "metadata": {},
   "source": [
    "`-` 전북대컴퓨터 -> 우리집노트북 \n",
    "- 전북대컴퓨터 내부의 ipython은 2라는 출력결과를 계산함\n",
    "- 전북대컴퓨터 내부의 어떤프로그램은 계산결과를 카톡으로 우리집 노트북에 알려줌 \n",
    "- 나는 우리집 노트북에서 계산결과를 받아볼 수 있다. "
   ]
  },
  {
   "cell_type": "markdown",
   "id": "353f5eb5-05c5-49ad-9b39-206b27e0a465",
   "metadata": {},
   "source": [
    "#### 모델2: 원격컴퓨터 + 가상컴퓨터 "
   ]
  },
  {
   "cell_type": "markdown",
   "id": "6265c981-facb-41aa-b670-8948683202b3",
   "metadata": {},
   "source": [
    "`-` 준비상태 \n",
    "- 성능좋은 전북대 컴퓨터 1개 \n",
    "- 내 노트북 1개 (그냥 싸고 가벼운거) \n",
    "- 대학원생 아이패드 1개 (그냥 싸고 가벼운거) "
   ]
  },
  {
   "cell_type": "markdown",
   "id": "412e6cb5-cf7b-4b6a-99fd-3bd0f89fe04c",
   "metadata": {},
   "source": [
    "`-` 아이디어 \n",
    "\n",
    "- 성능좋은 전북대 컴퓨터를 논리적으로 3개로 분리 $\\to$ 이를 각각 (base) (py39jl17) (py38r40) 컴퓨터라고 하자. \n",
    "- 나는 (py39jl17)에 접속하여 파이썬 3.9와 줄리아 1.7을 설치한뒤 실습한다. \n",
    "- 대학원생은 (py38r40)에 접속하여 파이썬 3.8과 R 4.0을 설치하고 실습한다. \n",
    "- (base)는 예비용으로 아무것도 설치안한 깨끗한 상태 유지 \n",
    "- 내가 뭘 실수해서 (py39jl17)컴퓨터가 망가졌으나 (py38r40)은 아무 타격없다. \n",
    "- 나는 (py39jl17)를 삭제하고 (base)로 부터 다시 새로운 컴퓨터를 복사하여 (py39jl17)을 다시 만든다. "
   ]
  },
  {
   "cell_type": "markdown",
   "id": "43f5db69-27ff-4a70-acb3-992bb3675181",
   "metadata": {},
   "source": [
    "#### 모델3: 가상컴퓨터 "
   ]
  },
  {
   "cell_type": "markdown",
   "id": "a27e05eb-a2ab-4f57-83cc-c6323b44a897",
   "metadata": {},
   "source": [
    "`-` 여러분들 사례 \n",
    "- 여러분들의 컴퓨터는 (base), (py39) 2개의 컴퓨터로 나누어져 있음\n",
    "- 여러분들이 (py39)에만 주피터랩을 설치\n",
    "- (py39)에 있는 ipython과 여러분의 크롬창이 서로 통신하면서 실습 \n",
    "- 장점: 서로 다른 환경에 서로다른 파이썬과 R등을 설치할 수 있다. $\\to$ 패키지간의 충돌이 최소화 (파이썬 입문 수업을 듣고, 이후에 파이썬을 이용하는 어떤수업을 들음) "
   ]
  },
  {
   "cell_type": "markdown",
   "id": "f5ffa0ab-669c-4f54-9e11-6bc82a64e8f7",
   "metadata": {},
   "source": [
    "#### 모델4: 클라우드 "
   ]
  },
  {
   "cell_type": "markdown",
   "id": "9d2d0576-3106-4bf0-b796-64a3b9ad4c68",
   "metadata": {},
   "source": [
    "`-` 사례1 \n",
    "- 성능이 그저그런 컴퓨터 27개 \n",
    "- 대학원생을 포함하여 쓸 사람은 5명 \n",
    "- 한사람당 27/5(=5.4)대의 컴퓨터식 할당 "
   ]
  },
  {
   "cell_type": "markdown",
   "id": "919412ac-6bbb-4d72-9c68-fb2bfa23e958",
   "metadata": {},
   "source": [
    "`-` 사례2: 구글코랩 \n",
    "- 구글에 여러가지 성능을 가진 컴퓨터가 $n$대 있음 \n",
    "- $m$명의 사람이 $n$대의 컴퓨터에 접속\n",
    "- 적당히 컴퓨터 자언을 분배하여 사용 "
   ]
  },
  {
   "cell_type": "markdown",
   "id": "3147cb5d-5de2-4368-91e1-f4a036c1930b",
   "metadata": {},
   "source": [
    "### 요약 및 정리 "
   ]
  },
  {
   "cell_type": "markdown",
   "id": "e8f55763-d2f8-4be7-843b-a87d85bf917b",
   "metadata": {},
   "source": [
    "`-` 결국 (1) 컴퓨터에 (2) 파이썬을 설치하고 (3) 실행하는 과정은 생각보다 다양한 선택의 조합이 가능하다. "
   ]
  },
  {
   "cell_type": "markdown",
   "id": "f72d9076-9ed4-46ab-a1d2-98d01455e57e",
   "metadata": {},
   "source": [
    "(1) 그냥 내 노트북에 파이썬을 설치할지? 내 노트북안에 가상컴퓨터를 만들고 거기에 파이썬을 설치할지? 학교의 데스크탑에 파이썬을 설치하고 쓸지? 설치를 안하고 구글컴퓨터에 설치된 파이썬을 난 쓰기만 할지? "
   ]
  },
  {
   "cell_type": "markdown",
   "id": "0d65d095-7593-4514-8a06-3829e8386efb",
   "metadata": {},
   "source": [
    "(2) python설치할지? ipython를 설치할지? 어차피 가상환경을 쓸꺼니가 anaconda를 설치할지? 아니면 코랩쓸꺼니까 설치안할지? "
   ]
  },
  {
   "cell_type": "markdown",
   "id": "ceba0b4a-f2ab-4eb6-b227-48a292191915",
   "metadata": {},
   "source": [
    "(3) 어떤 IDE를 쓸지? IDE를 쓰지 않을지? 내가 IDE를 직접구성해서 만들지? "
   ]
  },
  {
   "cell_type": "markdown",
   "id": "7f41ada7-0abf-4ce6-8de0-785ab3cbeefc",
   "metadata": {},
   "source": [
    "**하지만 공통적으로 관통하는 원리가 있다**"
   ]
  },
  {
   "cell_type": "markdown",
   "id": "d80685ce-d151-4e2e-a127-2ba4cdbac29d",
   "metadata": {},
   "source": [
    "### 숙제 "
   ]
  },
  {
   "cell_type": "markdown",
   "id": "4f8cb216-a04c-421e-9f68-7167acfd9d92",
   "metadata": {},
   "source": [
    "`-` 주피터랩에서 'myprod.py'파일을 만들고 1부터 5까지의 곱을 계산하는 코드를 작성후 `%run myprod`를 실행하여 출력결과를 확인  "
   ]
  }
 ],
 "metadata": {
  "kernelspec": {
   "display_name": "Python 3",
   "language": "python",
   "name": "python3"
  },
  "language_info": {
   "codemirror_mode": {
    "name": "ipython",
    "version": 3
   },
   "file_extension": ".py",
   "mimetype": "text/x-python",
   "name": "python",
   "nbconvert_exporter": "python",
   "pygments_lexer": "ipython3",
   "version": "3.9.12"
  }
 },
 "nbformat": 4,
 "nbformat_minor": 5
}
